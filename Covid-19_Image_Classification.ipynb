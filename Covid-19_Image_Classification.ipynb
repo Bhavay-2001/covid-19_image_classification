{
  "nbformat": 4,
  "nbformat_minor": 0,
  "metadata": {
    "accelerator": "GPU",
    "colab": {
      "name": "Quickstart.ipynb",
      "provenance": []
    },
    "kernelspec": {
      "display_name": "Python 3",
      "language": "python",
      "name": "python3"
    },
    "language_info": {
      "codemirror_mode": {
        "name": "ipython",
        "version": 3
      },
      "file_extension": ".py",
      "mimetype": "text/x-python",
      "name": "python",
      "nbconvert_exporter": "python",
      "pygments_lexer": "ipython3",
      "version": "3.6.8"
    }
  },
  "cells": [
    {
      "cell_type": "markdown",
      "metadata": {
        "id": "hS9SWfxgrg39"
      },
      "source": [
        "## *COVID-19 IMAGE CLASSIFICATION*"
      ]
    },
    {
      "cell_type": "code",
      "metadata": {
        "id": "dze08UA_rduF"
      },
      "source": [
        "!pip install -q kaggle"
      ],
      "execution_count": null,
      "outputs": []
    },
    {
      "cell_type": "code",
      "metadata": {
        "id": "XrBln1qdr_41"
      },
      "source": [
        "from google.colab import files\n",
        "uploaded = files.upload()"
      ],
      "execution_count": null,
      "outputs": []
    },
    {
      "cell_type": "code",
      "metadata": {
        "id": "Ab1xtoO2sZso"
      },
      "source": [
        "!mkdir -p ~/.kaggle\n",
        "!cp kaggle.json ~/.kaggle/\n",
        "!chmod 600 /root/.kaggle/kaggle.json"
      ],
      "execution_count": null,
      "outputs": []
    },
    {
      "cell_type": "code",
      "metadata": {
        "id": "ctdi_MZ3saUh"
      },
      "source": [
        "!kaggle datasets download -d tawsifurrahman/covid19-radiography-database"
      ],
      "execution_count": null,
      "outputs": []
    },
    {
      "cell_type": "code",
      "metadata": {
        "id": "WrL_OrtNseOd"
      },
      "source": [
        "import zipfile\n",
        "\n",
        "local_file = '/content/covid19-radiography-database.zip'\n",
        "zip_ref = zipfile.ZipFile(local_file, 'r')\n",
        "zip_ref.extractall('/content')\n",
        "zip_ref.close()"
      ],
      "execution_count": null,
      "outputs": []
    },
    {
      "cell_type": "code",
      "metadata": {
        "id": "BW2ydmCRsfJh"
      },
      "source": [
        "import os\n",
        "from os import makedirs\n",
        "\n",
        "base_ref = \"/tmp/\" # base directory where the data set will be stored\n",
        "sub_dirs = [\"/train\", \"/validate\"] \n",
        "for sub_dir in sub_dirs:\n",
        "  label_dirs = [\"/covid\", \"/normal\", \"/viral_pneumonia\"]\n",
        "  for label_dir in label_dirs:\n",
        "    new_dir = base_ref + sub_dir + label_dir\n",
        "    os.makedirs(new_dir, exist_ok=True)"
      ],
      "execution_count": null,
      "outputs": []
    },
    {
      "cell_type": "code",
      "metadata": {
        "id": "QCLd7ThOshus"
      },
      "source": [
        "from os import listdir\n",
        "from random import random\n",
        "from shutil import copyfile\n",
        "\n",
        "src_directory = '/content/COVID-19_Radiography_Dataset/COVID'\n",
        "val_ratio = 0.25\n",
        "\n",
        "for file in listdir(src_directory):\n",
        "  src = src_directory + '/' + file\n",
        "  dst_dir = 'train/'\n",
        "  if random() < val_ratio:\n",
        "    dst_dir = 'validate/'\n",
        "  dst = base_ref + dst_dir + 'covid/' + file\n",
        "  copyfile(src, dst)"
      ],
      "execution_count": null,
      "outputs": []
    },
    {
      "cell_type": "code",
      "metadata": {
        "id": "dFXIOi1XspyB"
      },
      "source": [
        "src_directory = '/content/COVID-19_Radiography_Dataset/Normal'\n",
        "\n",
        "for file in listdir(src_directory):\n",
        "  src = src_directory + '/' + file\n",
        "  dst_dir = 'train/'\n",
        "  if random() < val_ratio:\n",
        "    dst_dir = 'validate/'\n",
        "  dst = base_ref + dst_dir + 'normal/' + file\n",
        "  copyfile(src, dst)"
      ],
      "execution_count": null,
      "outputs": []
    },
    {
      "cell_type": "code",
      "metadata": {
        "id": "MM-hvbw7ss0_"
      },
      "source": [
        "src_directory = '/content/COVID-19_Radiography_Dataset/Viral Pneumonia'\n",
        "\n",
        "for file in listdir(src_directory):\n",
        "  src = src_directory + '/' + file\n",
        "  dst_dir = 'train/'\n",
        "  if random() < val_ratio:\n",
        "    dst_dir = 'validate/'\n",
        "  dst = base_ref + dst_dir + 'viral_pneumonia/' + file\n",
        "  copyfile(src, dst)"
      ],
      "execution_count": null,
      "outputs": []
    },
    {
      "cell_type": "code",
      "metadata": {
        "id": "_ykbLgTisvSm"
      },
      "source": [
        "from tensorflow.keras.preprocessing.image import ImageDataGenerator\n",
        "\n",
        "train_datagen = ImageDataGenerator(\n",
        "    rescale = 1./255.,\n",
        "    shear_range = 0.2,\n",
        "    zoom_range = 0.2,\n",
        "    horizontal_flip = True,\n",
        "    fill_mode = 'nearest'\n",
        ")\n",
        "\n",
        "test_datagen = ImageDataGenerator(\n",
        "    rescale = 1./255.\n",
        ")"
      ],
      "execution_count": null,
      "outputs": []
    },
    {
      "cell_type": "code",
      "metadata": {
        "id": "v4edz2KFsvy9"
      },
      "source": [
        "train_generator = train_datagen.flow_from_directory(\n",
        "    '/tmp/train',\n",
        "    batch_size = 64,\n",
        "    target_size = (299, 299),\n",
        "    class_mode = 'sparse',\n",
        "    subset='training',\n",
        "\n",
        ")\n",
        "\n",
        "validation_generator = test_datagen.flow_from_directory(\n",
        "    '/tmp/validate',\n",
        "    batch_size = 64,\n",
        "    target_size = (299, 299),\n",
        "    class_mode = 'sparse',\n",
        "    subset = 'validation'\n",
        ")"
      ],
      "execution_count": null,
      "outputs": []
    },
    {
      "cell_type": "code",
      "metadata": {
        "id": "i90l5I70syDO"
      },
      "source": [
        "import os\n",
        "\n",
        "print(train_generator.class_indices)\n",
        "label = '\\n'.join(sorted(train_generator.class_indices))\n",
        "with open('label.txt', mode='w') as f:\n",
        "  f.write(label)"
      ],
      "execution_count": null,
      "outputs": []
    },
    {
      "cell_type": "code",
      "metadata": {
        "id": "dIKEHVADs1iR"
      },
      "source": [
        "from tensorflow.keras.applications import InceptionV3\n",
        "\n",
        "img_shape = (299, 299, 3)\n",
        "base_model = InceptionV3(\n",
        "    input_shape = img_shape,\n",
        "    include_top = False\n",
        ")\n",
        "\n",
        "for layer in base_model.layers:\n",
        "  layer.trainable = False"
      ],
      "execution_count": null,
      "outputs": []
    },
    {
      "cell_type": "code",
      "metadata": {
        "id": "FznFtCRRs3sq"
      },
      "source": [
        "from tensorflow.keras import Model\n",
        "from tensorflow.keras import layers\n",
        "\n",
        "x = layers.Flatten()(base_model.layers[-1].output)\n",
        "x = layers.Dropout(0.3)(x)\n",
        "x = layers.Dense(128, activation='relu')(x)\n",
        "x = layers.Dense(64, activation='relu')(x)\n",
        "x = layers.Dense(3, activation='softmax')(x)\n",
        "\n",
        "model = Model(inputs=base_model.inputs, outputs = x)"
      ],
      "execution_count": null,
      "outputs": []
    },
    {
      "cell_type": "code",
      "metadata": {
        "id": "Ygsn93Vfs8gV"
      },
      "source": [
        "model.compile(\n",
        "    optimizer = 'adam',\n",
        "    loss = 'sparse_categorical_crossentropy',\n",
        "    metrics = ['accuracy'],\n",
        ")"
      ],
      "execution_count": null,
      "outputs": []
    },
    {
      "cell_type": "code",
      "metadata": {
        "id": "FamAePeZtAdP"
      },
      "source": [
        "history = model.fit(\n",
        "    train_generator, \n",
        "    epochs = 20, \n",
        "    validation_data = validation_generator,\n",
        "    callbacks = [early_stopping]\n",
        ")"
      ],
      "execution_count": null,
      "outputs": []
    },
    {
      "cell_type": "code",
      "metadata": {
        "id": "iXPAxVh9tCyN"
      },
      "source": [
        "model.save('model.h5')\n",
        "files.download('/content/model.h5')"
      ],
      "execution_count": null,
      "outputs": []
    },
    {
      "cell_type": "code",
      "metadata": {
        "id": "Xism9scYtKau"
      },
      "source": [
        "uploaded = files.upload()"
      ],
      "execution_count": null,
      "outputs": []
    },
    {
      "cell_type": "code",
      "metadata": {
        "id": "zLuN5qmjtRkX"
      },
      "source": [
        "label = {\n",
        "    0 : 'Covid',\n",
        "    1 : 'Normal',\n",
        "    2 : 'Viral Pneumonia'\n",
        "}"
      ],
      "execution_count": null,
      "outputs": []
    },
    {
      "cell_type": "code",
      "metadata": {
        "id": "1AqYZVL5tSBd"
      },
      "source": [
        "import tensorflow as tf\n",
        "import numpy as np\n",
        "from tensorflow.keras.preprocessing.image import load_img\n",
        "from tensorflow.keras.preprocessing.image import img_to_array\n",
        "from keras.applications.inception_v3 import preprocess_input\n",
        "\n",
        "img = load_img('/content/photo_5.jpg', target_size=(299,299))\n",
        "img = img_to_array(img)\n",
        "img = img.reshape((1, img.shape[0], img.shape[1], img.shape[2]))\n",
        "img = preprocess_input(img)\n",
        "\n",
        "y_hat = model.predict(img)\n",
        "print(y_hat)\n",
        "ans = label[np.argmax(y_hat)]\n",
        "print(ans)"
      ],
      "execution_count": null,
      "outputs": []
    }
  ]
}